{
 "cells": [
  {
   "cell_type": "code",
   "execution_count": 1,
   "id": "68c46b56",
   "metadata": {},
   "outputs": [],
   "source": [
    "#Python Program to check leap year "
   ]
  },
  {
   "cell_type": "code",
   "execution_count": 2,
   "id": "7812463a",
   "metadata": {},
   "outputs": [
    {
     "name": "stdout",
     "output_type": "stream",
     "text": [
      "2027\n"
     ]
    },
    {
     "data": {
      "text/plain": [
       "'2027 is not a leap year'"
      ]
     },
     "execution_count": 2,
     "metadata": {},
     "output_type": "execute_result"
    }
   ],
   "source": [
    "def leap_year(Year):\n",
    "    if ((Year % 400 == 0) or (Year % 4 == 0) and  (Year % 100 != 0)):\n",
    "        return f'{Year} is leap year'\n",
    "    else:\n",
    "        return f'{Year} is not a leap year'\n",
    "user = int(input())\n",
    "leap_year(user)\n",
    "  "
   ]
  },
  {
   "cell_type": "code",
   "execution_count": 3,
   "id": "fde6c4e1",
   "metadata": {},
   "outputs": [],
   "source": [
    "#Print all prime number in an interval"
   ]
  },
  {
   "cell_type": "code",
   "execution_count": 4,
   "id": "40a08c86",
   "metadata": {},
   "outputs": [
    {
     "name": "stdout",
     "output_type": "stream",
     "text": [
      "Please, Enter the Lowest Range Value: 1\n",
      "Please, Enter the Upper Range Value: 13\n",
      "The Prime Numbers in the range are: \n",
      "2\n",
      "3\n",
      "5\n",
      "7\n",
      "11\n",
      "13\n"
     ]
    }
   ],
   "source": [
    "lower_value = int(input (\"Please, Enter the Lowest Range Value: \"))  \n",
    "upper_value = int(input (\"Please, Enter the Upper Range Value: \"))  \n",
    "  \n",
    "print (\"The Prime Numbers in the range are: \")  \n",
    "for num in range (lower_value, upper_value + 1):  \n",
    "    if num > 1:  \n",
    "        for i in range (2, num):  \n",
    "            if (num % i) == 0:  \n",
    "                break  \n",
    "        else:  \n",
    "            print (num)  "
   ]
  },
  {
   "cell_type": "code",
   "execution_count": 1,
   "id": "a401f527",
   "metadata": {},
   "outputs": [
    {
     "name": "stdout",
     "output_type": "stream",
     "text": [
      "Enter a number: 12\n",
      "The factorial of 12 is 479001600\n"
     ]
    }
   ],
   "source": [
    "num = int(input(\"Enter a number: \"))\n",
    "factorial = 1\n",
    "if num < 0:\n",
    "    print(\" Factorial does not exist for negative numbers\")    \n",
    "elif num == 0:    \n",
    "    print(\"The factorial of 0 is 1\")    \n",
    "else:    \n",
    "    for i in range(1,num + 1):    \n",
    "        factorial = factorial*i    \n",
    "    print(\"The factorial of\",num,\"is\",factorial)    "
   ]
  },
  {
   "cell_type": "code",
   "execution_count": 3,
   "id": "239fc1c2",
   "metadata": {},
   "outputs": [
    {
     "name": "stdout",
     "output_type": "stream",
     "text": [
      "How many terms the user wants to print? 13\n",
      "The fibonacci sequence of the numbers is:\n",
      "0\n",
      "1\n",
      "1\n",
      "2\n",
      "3\n",
      "5\n",
      "8\n",
      "13\n",
      "21\n",
      "34\n",
      "55\n",
      "89\n",
      "144\n"
     ]
    }
   ],
   "source": [
    "n_terms = int(input (\"How many terms the user wants to print? \"))  \n",
    "  \n",
    "# First two terms  \n",
    "n_1 = 0  \n",
    "n_2 = 1  \n",
    "count = 0  \n",
    "  \n",
    "# Now, we will check if the number of terms is valid or not  \n",
    "if n_terms <= 0:  \n",
    "    print (\"Please enter a positive integer, the given number is not valid\")  \n",
    "# if there is only one term, it will return n_1  \n",
    "elif n_terms == 1:  \n",
    "    print (\"The Fibonacci sequence of the numbers up to\", n_terms, \": \")  \n",
    "    print(n_1)  \n",
    "# Then we will generate Fibonacci sequence of number  \n",
    "else:  \n",
    "    print (\"The fibonacci sequence of the numbers is:\")  \n",
    "    while count < n_terms:  \n",
    "        print(n_1)  \n",
    "        nth = n_1 + n_2  \n",
    "       # At last, we will update values  \n",
    "        n_1 = n_2  \n",
    "        n_2 = nth  \n",
    "        count += 1  "
   ]
  },
  {
   "cell_type": "code",
   "execution_count": null,
   "id": "61ef2adb",
   "metadata": {},
   "outputs": [],
   "source": []
  }
 ],
 "metadata": {
  "kernelspec": {
   "display_name": "Python 3 (ipykernel)",
   "language": "python",
   "name": "python3"
  },
  "language_info": {
   "codemirror_mode": {
    "name": "ipython",
    "version": 3
   },
   "file_extension": ".py",
   "mimetype": "text/x-python",
   "name": "python",
   "nbconvert_exporter": "python",
   "pygments_lexer": "ipython3",
   "version": "3.10.9"
  }
 },
 "nbformat": 4,
 "nbformat_minor": 5
}
