{
 "cells": [
  {
   "cell_type": "code",
   "execution_count": 1,
   "id": "0dd89bfd",
   "metadata": {},
   "outputs": [],
   "source": [
    "#Oops challenge"
   ]
  },
  {
   "cell_type": "code",
   "execution_count": 2,
   "id": "46f70eff",
   "metadata": {},
   "outputs": [],
   "source": [
    "class Account:\n",
    "    def __init__(self, owner, balance):\n",
    "        self.owner = owner\n",
    "        self.balance = balance\n",
    "    def __str__(self):\n",
    "        return f'Account owner: {self.owner}\\nAccount balance: ${self.balance}'\n",
    "    def deposit(self, amount):\n",
    "        self.balance += amount\n",
    "        print(\"Deposit Accepted\")\n",
    "    def withdraw(self, amount):\n",
    "        if amount > self.balance:\n",
    "            print(\"Funds Unavailable!\")\n",
    "        else:\n",
    "            self.balance -= amount\n",
    "            print(\"Withdrawal Accepted\")"
   ]
  },
  {
   "cell_type": "code",
   "execution_count": 3,
   "id": "2ab9f883",
   "metadata": {},
   "outputs": [],
   "source": [
    "acc1 = Account('Jose',100)"
   ]
  },
  {
   "cell_type": "code",
   "execution_count": 4,
   "id": "77742aeb",
   "metadata": {},
   "outputs": [
    {
     "name": "stdout",
     "output_type": "stream",
     "text": [
      "Account owner: Jose\n",
      "Account balance: $100\n"
     ]
    }
   ],
   "source": [
    "print(acc1)"
   ]
  },
  {
   "cell_type": "code",
   "execution_count": 5,
   "id": "97b2e501",
   "metadata": {},
   "outputs": [
    {
     "data": {
      "text/plain": [
       "'Jose'"
      ]
     },
     "execution_count": 5,
     "metadata": {},
     "output_type": "execute_result"
    }
   ],
   "source": [
    "acc1.owner\n"
   ]
  },
  {
   "cell_type": "code",
   "execution_count": 6,
   "id": "92f154ed",
   "metadata": {},
   "outputs": [
    {
     "data": {
      "text/plain": [
       "100"
      ]
     },
     "execution_count": 6,
     "metadata": {},
     "output_type": "execute_result"
    }
   ],
   "source": [
    "acc1.balance"
   ]
  },
  {
   "cell_type": "code",
   "execution_count": 7,
   "id": "7b8d6afa",
   "metadata": {},
   "outputs": [
    {
     "name": "stdout",
     "output_type": "stream",
     "text": [
      "Deposit Accepted\n"
     ]
    }
   ],
   "source": [
    "acc1.deposit(200)"
   ]
  },
  {
   "cell_type": "code",
   "execution_count": 9,
   "id": "8b2a088a",
   "metadata": {},
   "outputs": [
    {
     "name": "stdout",
     "output_type": "stream",
     "text": [
      "Withdrawal Accepted\n"
     ]
    }
   ],
   "source": [
    "acc1.withdraw(150)"
   ]
  },
  {
   "cell_type": "code",
   "execution_count": 10,
   "id": "ac3a4c55",
   "metadata": {},
   "outputs": [
    {
     "name": "stdout",
     "output_type": "stream",
     "text": [
      "Funds Unavailable!\n"
     ]
    }
   ],
   "source": [
    "acc1.withdraw(700)"
   ]
  },
  {
   "cell_type": "code",
   "execution_count": null,
   "id": "ca4cb88d",
   "metadata": {},
   "outputs": [],
   "source": []
  }
 ],
 "metadata": {
  "kernelspec": {
   "display_name": "Python 3 (ipykernel)",
   "language": "python",
   "name": "python3"
  },
  "language_info": {
   "codemirror_mode": {
    "name": "ipython",
    "version": 3
   },
   "file_extension": ".py",
   "mimetype": "text/x-python",
   "name": "python",
   "nbconvert_exporter": "python",
   "pygments_lexer": "ipython3",
   "version": "3.10.9"
  }
 },
 "nbformat": 4,
 "nbformat_minor": 5
}
